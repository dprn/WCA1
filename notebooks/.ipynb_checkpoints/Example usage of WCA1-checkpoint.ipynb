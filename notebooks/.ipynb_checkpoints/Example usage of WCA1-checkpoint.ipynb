{
 "cells": [
  {
   "cell_type": "markdown",
   "metadata": {},
   "source": [
    "# Example usage for WCA1"
   ]
  },
  {
   "cell_type": "code",
   "execution_count": 1,
   "metadata": {},
   "outputs": [],
   "source": [
    "import Pkg\n",
    "Pkg.activate(\"../../WCA1\")\n",
    "\n",
    "using WAV, DSP.Windows, Plots\n",
    "\n",
    "using WCA1"
   ]
  },
  {
   "cell_type": "markdown",
   "metadata": {},
   "source": [
    "We start by defining an artificial sound."
   ]
  },
  {
   "cell_type": "code",
   "execution_count": null,
   "metadata": {},
   "outputs": [],
   "source": [
    "rate = 16000.\n",
    "duration = 2\n",
    "samples = round(Int,duration*rate)\n",
    "x = [sin(exp((t+20000)/5000)) for t in 1:samples ]\n",
    "\n",
    "stft(x, 500, 450, fs = rate, window = hanning)\n",
    "@time m = stft(x, 500, 450, fs = rate, window = hanning)\n",
    "show_stft(m) "
   ]
  },
  {
   "cell_type": "markdown",
   "metadata": {},
   "source": [
    "Then we lift it"
   ]
  },
  {
   "cell_type": "code",
   "execution_count": null,
   "metadata": {},
   "outputs": [],
   "source": [
    "lift(m)\n",
    "@time Lm = lift(m);"
   ]
  },
  {
   "cell_type": "markdown",
   "metadata": {},
   "source": [
    "Let us check that the projection is a left inverse of the lift."
   ]
  },
  {
   "cell_type": "code",
   "execution_count": null,
   "metadata": {},
   "outputs": [],
   "source": [
    "maximum(abs.(project(Lm)[:,:] - m[:,:])) |> display\n",
    "show_stft(project(Lm))"
   ]
  },
  {
   "cell_type": "markdown",
   "metadata": {},
   "source": [
    "Then, in order to apply the WC evolution, we prepare the Kolmogorov kernel."
   ]
  },
  {
   "cell_type": "code",
   "execution_count": null,
   "metadata": {},
   "outputs": [],
   "source": [
    "τ = 20 * step(time(Lm))\n",
    "@time k = kernel_computation(normalize(freq(Lm)), slopes(Lm), τ, n = 10)"
   ]
  },
  {
   "cell_type": "markdown",
   "metadata": {},
   "source": [
    "Finally, we can evolve the given sound."
   ]
  },
  {
   "cell_type": "code",
   "execution_count": null,
   "metadata": {},
   "outputs": [],
   "source": [
    "wc_delay(Lm, 0, 0, 0, K=k)\n",
    "@time W = wc_delay(Lm, 10, 10, 10, K=k)\n",
    "show(project(W))"
   ]
  },
  {
   "cell_type": "markdown",
   "metadata": {},
   "source": [
    "# Test on interrupted sound"
   ]
  },
  {
   "cell_type": "code",
   "execution_count": null,
   "metadata": {},
   "outputs": [],
   "source": [
    "rate = 16000.\n",
    "duration = 2\n",
    "samples = round(Int,duration*rate)\n",
    "y = [ t <= samples/2 ? sin(exp((t+20000)/5000)) : 0. for t in 1:samples ]\n",
    "wavwrite(y, \"ugo-corr.wav\", Fs = rate)\n",
    "\n",
    "@time m2 = stft(y, 500, 450, fs = rate, window = hanning)\n",
    "show_stft(m2) "
   ]
  },
  {
   "cell_type": "code",
   "execution_count": null,
   "metadata": {},
   "outputs": [],
   "source": [
    "@time Lm2 = lift(m2)\n",
    "@time W = wc_delay(Lm2, 40, 100, 100, K=k)\n",
    "show_stft(project(W))"
   ]
  },
  {
   "cell_type": "code",
   "execution_count": null,
   "metadata": {},
   "outputs": [],
   "source": [
    "res = istft(project(W))\n",
    "plot([y,res]) |> display\n",
    "wavwrite(res, \"ugo-corr-res.wav\", Fs = rate)"
   ]
  },
  {
   "cell_type": "code",
   "execution_count": null,
   "metadata": {},
   "outputs": [],
   "source": [
    "@time W = wc_delay(Lm2, 50, 100, 250, K=k)\n",
    "show_stft(project(W)) |> display\n",
    "res = istft(project(W))\n",
    "plot([y,res]) |> display\n",
    "wavwrite(res, \"ugo-corr-res2.wav\", Fs = rate)"
   ]
  },
  {
   "cell_type": "code",
   "execution_count": null,
   "metadata": {},
   "outputs": [],
   "source": []
  }
 ],
 "metadata": {
  "kernelspec": {
   "display_name": "Julia 1.1.0",
   "language": "julia",
   "name": "julia-1.1"
  },
  "language_info": {
   "file_extension": ".jl",
   "mimetype": "application/julia",
   "name": "julia",
   "version": "1.1.0"
  }
 },
 "nbformat": 4,
 "nbformat_minor": 2
}
