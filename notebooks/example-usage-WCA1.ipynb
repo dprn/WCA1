{
 "cells": [
  {
   "cell_type": "markdown",
   "metadata": {},
   "source": [
    "# Simple sound processing via `WCA1`\n",
    "\n",
    "Companion notebook to the paper [_A bio-inspired geometric model for sound reconstruction_](https://arxiv.org/abs/2004.02450) by Boscain U., Prandi D., Sacchelli L., and Turco G."
   ]
  },
  {
   "cell_type": "code",
   "execution_count": 1,
   "metadata": {},
   "outputs": [
    {
     "name": "stderr",
     "output_type": "stream",
     "text": [
      "\u001b[32m\u001b[1m Activating\u001b[22m\u001b[39m environment at `~/git-repos/WCA1/Project.toml`\n",
      "┌ Info: Precompiling WCA1 [f15acf5a-a3df-11e9-3331-7bf93435fc23]\n",
      "└ @ Base loading.jl:1260\n"
     ]
    }
   ],
   "source": [
    "import Pkg\n",
    "Pkg.activate(\"../../WCA1\")\n",
    "using WCA1"
   ]
  },
  {
   "cell_type": "markdown",
   "metadata": {},
   "source": [
    "## STFT of a signal\n",
    "\n",
    "We construct an artificial signal, composed of two linearly varying frequencies."
   ]
  },
  {
   "cell_type": "code",
   "execution_count": 2,
   "metadata": {},
   "outputs": [
    {
     "ename": "ErrorException",
     "evalue": "could not load library \"libGR.so\"\ndlopen(libGR.so.dylib, 1): image not found",
     "output_type": "error",
     "traceback": [
      "could not load library \"libGR.so\"\ndlopen(libGR.so.dylib, 1): image not found",
      "",
      "Stacktrace:",
      " [1] setcharheight at /Users/darioprandi/.julia/packages/GR/oiZD3/src/GR.jl:1263 [inlined]",
      " [2] gr_set_font(::Plots.Font; halign::Symbol, valign::Symbol, color::ColorTypes.RGB{FixedPointNumbers.Normed{UInt8,8}}, rotation::Int64) at /Users/darioprandi/.julia/packages/Plots/qZHsp/src/backends/gr.jl:386",
      " [3] gr_set_xticks_font(::Plots.Subplot{Plots.GRBackend}) at /Users/darioprandi/.julia/packages/Plots/qZHsp/src/backends/gr.jl:723",
      " [4] _update_min_padding!(::Plots.Subplot{Plots.GRBackend}) at /Users/darioprandi/.julia/packages/Plots/qZHsp/src/backends/gr.jl:904",
      " [5] iterate at ./generator.jl:47 [inlined]",
      " [6] _collect(::Array{RecipesBase.AbstractLayout,2}, ::Base.Generator{Array{RecipesBase.AbstractLayout,2},typeof(Plots._update_min_padding!)}, ::Base.EltypeUnknown, ::Base.HasShape{2}) at ./array.jl:678",
      " [7] collect_similar(::Array{RecipesBase.AbstractLayout,2}, ::Base.Generator{Array{RecipesBase.AbstractLayout,2},typeof(Plots._update_min_padding!)}) at ./array.jl:607",
      " [8] map(::Function, ::Array{RecipesBase.AbstractLayout,2}) at ./abstractarray.jl:2072",
      " [9] _update_min_padding!(::Plots.GridLayout) at /Users/darioprandi/.julia/packages/Plots/qZHsp/src/layouts.jl:310",
      " [10] prepare_output(::Plots.Plot{Plots.GRBackend}) at /Users/darioprandi/.julia/packages/Plots/qZHsp/src/plot.jl:261",
      " [11] show(::Base.GenericIOBuffer{Array{UInt8,1}}, ::MIME{Symbol(\"image/svg+xml\")}, ::Plots.Plot{Plots.GRBackend}) at /Users/darioprandi/.julia/packages/Plots/qZHsp/src/output.jl:198",
      " [12] sprint(::Function, ::MIME{Symbol(\"image/svg+xml\")}, ::Vararg{Any,N} where N; context::Nothing, sizehint::Int64) at ./strings/io.jl:105",
      " [13] sprint at ./strings/io.jl:101 [inlined]",
      " [14] _ijulia_display_dict(::Plots.Plot{Plots.GRBackend}) at /Users/darioprandi/.julia/packages/Plots/qZHsp/src/ijulia.jl:53",
      " [15] display_dict(::Plots.Plot{Plots.GRBackend}) at /Users/darioprandi/.julia/packages/Plots/qZHsp/src/init.jl:83",
      " [16] #invokelatest#1 at ./essentials.jl:712 [inlined]",
      " [17] invokelatest at ./essentials.jl:711 [inlined]",
      " [18] execute_request(::ZMQ.Socket, ::IJulia.Msg) at /Users/darioprandi/.julia/packages/IJulia/tOM8L/src/execute_request.jl:112",
      " [19] #invokelatest#1 at ./essentials.jl:712 [inlined]",
      " [20] invokelatest at ./essentials.jl:711 [inlined]",
      " [21] eventloop(::ZMQ.Socket) at /Users/darioprandi/.julia/packages/IJulia/tOM8L/src/eventloop.jl:8",
      " [22] (::IJulia.var\"#15#18\")() at ./task.jl:358"
     ]
    }
   ],
   "source": [
    "using ImageFiltering\n",
    "\n",
    "# We just generate an STFT container, starting from a sound\n",
    "rate = 16000.\n",
    "duration = 2\n",
    "samples = round(Int,duration*rate)\n",
    "y = [ t <= 8*samples/14 ? sin(1000*2*π*t/rate+1000*t/rate*2*π*t/rate) : 0. for t in 1:samples ]\n",
    "\n",
    "S = stft(y, 500, 450, fs = rate);\n",
    "\n",
    "function two_bars(p1, p2, km1, km2, N1, N2; λ = 4)\n",
    "    # the bars\n",
    "    U0v1=10*[(((i+10)p1+km1-1<j<(i-10)p1+km1+1) && (N2/6<i<N2/2) ) ? 1. : 0. for j in 1:N1, i in 1:N2]\n",
    "    U0v2=10*[(((i+3)p2+km2-1<j<(i-3)p2+km2+1) && (N2/6<i<N2/3) ) ? 1. : 0. for j in 1:N1, i in 1:N2]\n",
    "\n",
    "    # a little bit of smoothing\n",
    "    imfilter!(U0v1, U0v1,ImageFiltering.Kernel.gaussian((λ,3λ)))\n",
    "    imfilter!(U0v2, U0v2,ImageFiltering.Kernel.gaussian((λ,3λ)))\n",
    "\n",
    "    # combining them\n",
    "    U0v1/maximum(U0v1)+U0v2/maximum(U0v2)\n",
    "end\n",
    "\n",
    "# wrapping everything up\n",
    "function two_bars_stft(p1, p2, km1, km2, SS::STFT; args...) \n",
    "    U0 = two_bars(p1,p2,km1,km2,  length(SS.freq), length(SS.time); args...)\n",
    "    STFT(ComplexF64.(U0), SS.freq, SS.time, SS.width)\n",
    "end\n",
    "\n",
    "p0 = 1000 .*step(S.time)/step(S.freq)\n",
    "S = two_bars_stft(p0/2, -p0, 150, 100, S)\n",
    "\n",
    "show_stft(S)"
   ]
  },
  {
   "cell_type": "markdown",
   "metadata": {},
   "source": [
    "The corresponding sound is the following."
   ]
  },
  {
   "cell_type": "code",
   "execution_count": 3,
   "metadata": {},
   "outputs": [
    {
     "ename": "ErrorException",
     "evalue": "could not load library \"libGR.so\"\ndlopen(libGR.so.dylib, 1): image not found",
     "output_type": "error",
     "traceback": [
      "could not load library \"libGR.so\"\ndlopen(libGR.so.dylib, 1): image not found",
      "",
      "Stacktrace:",
      " [1] setcharheight at /Users/darioprandi/.julia/packages/GR/oiZD3/src/GR.jl:1263 [inlined]",
      " [2] gr_set_font(::Plots.Font; halign::Symbol, valign::Symbol, color::ColorTypes.RGB{FixedPointNumbers.Normed{UInt8,8}}, rotation::Int64) at /Users/darioprandi/.julia/packages/Plots/qZHsp/src/backends/gr.jl:386",
      " [3] gr_set_xticks_font(::Plots.Subplot{Plots.GRBackend}) at /Users/darioprandi/.julia/packages/Plots/qZHsp/src/backends/gr.jl:723",
      " [4] _update_min_padding!(::Plots.Subplot{Plots.GRBackend}) at /Users/darioprandi/.julia/packages/Plots/qZHsp/src/backends/gr.jl:904",
      " [5] iterate at ./generator.jl:47 [inlined]",
      " [6] _collect(::Array{RecipesBase.AbstractLayout,2}, ::Base.Generator{Array{RecipesBase.AbstractLayout,2},typeof(Plots._update_min_padding!)}, ::Base.EltypeUnknown, ::Base.HasShape{2}) at ./array.jl:678",
      " [7] collect_similar(::Array{RecipesBase.AbstractLayout,2}, ::Base.Generator{Array{RecipesBase.AbstractLayout,2},typeof(Plots._update_min_padding!)}) at ./array.jl:607",
      " [8] map(::Function, ::Array{RecipesBase.AbstractLayout,2}) at ./abstractarray.jl:2072",
      " [9] _update_min_padding!(::Plots.GridLayout) at /Users/darioprandi/.julia/packages/Plots/qZHsp/src/layouts.jl:310",
      " [10] prepare_output(::Plots.Plot{Plots.GRBackend}) at /Users/darioprandi/.julia/packages/Plots/qZHsp/src/plot.jl:261",
      " [11] show(::Base.GenericIOBuffer{Array{UInt8,1}}, ::MIME{Symbol(\"image/svg+xml\")}, ::Plots.Plot{Plots.GRBackend}) at /Users/darioprandi/.julia/packages/Plots/qZHsp/src/output.jl:198",
      " [12] sprint(::Function, ::MIME{Symbol(\"image/svg+xml\")}, ::Vararg{Any,N} where N; context::Nothing, sizehint::Int64) at ./strings/io.jl:105",
      " [13] sprint at ./strings/io.jl:101 [inlined]",
      " [14] _ijulia_display_dict(::Plots.Plot{Plots.GRBackend}) at /Users/darioprandi/.julia/packages/Plots/qZHsp/src/ijulia.jl:53",
      " [15] display_dict(::Plots.Plot{Plots.GRBackend}) at /Users/darioprandi/.julia/packages/Plots/qZHsp/src/init.jl:83",
      " [16] #invokelatest#1 at ./essentials.jl:712 [inlined]",
      " [17] invokelatest at ./essentials.jl:711 [inlined]",
      " [18] execute_request(::ZMQ.Socket, ::IJulia.Msg) at /Users/darioprandi/.julia/packages/IJulia/tOM8L/src/execute_request.jl:112",
      " [19] #invokelatest#1 at ./essentials.jl:712 [inlined]",
      " [20] invokelatest at ./essentials.jl:711 [inlined]",
      " [21] eventloop(::ZMQ.Socket) at /Users/darioprandi/.julia/packages/IJulia/tOM8L/src/eventloop.jl:8",
      " [22] (::IJulia.var\"#15#18\")() at ./task.jl:358"
     ]
    }
   ],
   "source": [
    "show_istft(S)"
   ]
  },
  {
   "cell_type": "markdown",
   "metadata": {},
   "source": [
    "## Evolution in the contact space\n",
    "\n",
    "We first lift the signal."
   ]
  },
  {
   "cell_type": "code",
   "execution_count": 4,
   "metadata": {},
   "outputs": [
    {
     "name": "stdout",
     "output_type": "stream",
     "text": [
      "  2.960843 seconds (4.55 M allocations: 794.419 MiB, 9.38% gc time)\n"
     ]
    },
    {
     "data": {
      "text/plain": [
       "(251, 631, 30)"
      ]
     },
     "execution_count": 4,
     "metadata": {},
     "output_type": "execute_result"
    }
   ],
   "source": [
    "@time L = lift(S, threshold = 10, N=30) ;\n",
    "\n",
    "size(L)"
   ]
  },
  {
   "cell_type": "markdown",
   "metadata": {},
   "source": [
    "We then evolve it, according to the following Wilson-Cowan equation with delay:\n",
    "$$\n",
    "    \\partial_\\tau a(\\tau, \\omega, \\nu) = -\\alpha a(\\tau,\\omega,\\nu)+\\beta L(\\tau,\\omega,\\nu) +\\gamma\\int_{\\mathbb R^2} w(\\omega,\\nu\\|\\omega',\\nu') \\sigma(a(\\tau-\\delta, \\omega', \\nu')) \\,d\\omega'\\,d\\nu'\n",
    "$$"
   ]
  },
  {
   "cell_type": "code",
   "execution_count": 5,
   "metadata": {},
   "outputs": [
    {
     "name": "stderr",
     "output_type": "stream",
     "text": [
      "\u001b[32mWC evolution...100%|███████████████████████████████████▉|  ETA: 0:00:00\u001b[39m"
     ]
    },
    {
     "name": "stdout",
     "output_type": "stream",
     "text": [
      " 11.662902 seconds (1.64 M allocations: 1.314 GiB, 3.02% gc time)\n"
     ]
    },
    {
     "ename": "ErrorException",
     "evalue": "could not load library \"libGR.so\"\ndlopen(libGR.so.dylib, 1): image not found",
     "output_type": "error",
     "traceback": [
      "could not load library \"libGR.so\"\ndlopen(libGR.so.dylib, 1): image not found",
      "",
      "Stacktrace:",
      " [1] setcharheight at /Users/darioprandi/.julia/packages/GR/oiZD3/src/GR.jl:1263 [inlined]",
      " [2] gr_set_font(::Plots.Font; halign::Symbol, valign::Symbol, color::ColorTypes.RGB{FixedPointNumbers.Normed{UInt8,8}}, rotation::Int64) at /Users/darioprandi/.julia/packages/Plots/qZHsp/src/backends/gr.jl:386",
      " [3] gr_set_xticks_font(::Plots.Subplot{Plots.GRBackend}) at /Users/darioprandi/.julia/packages/Plots/qZHsp/src/backends/gr.jl:723",
      " [4] _update_min_padding!(::Plots.Subplot{Plots.GRBackend}) at /Users/darioprandi/.julia/packages/Plots/qZHsp/src/backends/gr.jl:904",
      " [5] iterate at ./generator.jl:47 [inlined]",
      " [6] _collect(::Array{RecipesBase.AbstractLayout,2}, ::Base.Generator{Array{RecipesBase.AbstractLayout,2},typeof(Plots._update_min_padding!)}, ::Base.EltypeUnknown, ::Base.HasShape{2}) at ./array.jl:678",
      " [7] collect_similar(::Array{RecipesBase.AbstractLayout,2}, ::Base.Generator{Array{RecipesBase.AbstractLayout,2},typeof(Plots._update_min_padding!)}) at ./array.jl:607",
      " [8] map(::Function, ::Array{RecipesBase.AbstractLayout,2}) at ./abstractarray.jl:2072",
      " [9] _update_min_padding!(::Plots.GridLayout) at /Users/darioprandi/.julia/packages/Plots/qZHsp/src/layouts.jl:310",
      " [10] prepare_output(::Plots.Plot{Plots.GRBackend}) at /Users/darioprandi/.julia/packages/Plots/qZHsp/src/plot.jl:261",
      " [11] show(::Base.GenericIOBuffer{Array{UInt8,1}}, ::MIME{Symbol(\"image/svg+xml\")}, ::Plots.Plot{Plots.GRBackend}) at /Users/darioprandi/.julia/packages/Plots/qZHsp/src/output.jl:198",
      " [12] sprint(::Function, ::MIME{Symbol(\"image/svg+xml\")}, ::Vararg{Any,N} where N; context::Nothing, sizehint::Int64) at ./strings/io.jl:105",
      " [13] sprint at ./strings/io.jl:101 [inlined]",
      " [14] _ijulia_display_dict(::Plots.Plot{Plots.GRBackend}) at /Users/darioprandi/.julia/packages/Plots/qZHsp/src/ijulia.jl:53",
      " [15] display_dict(::Plots.Plot{Plots.GRBackend}) at /Users/darioprandi/.julia/packages/Plots/qZHsp/src/init.jl:83",
      " [16] #invokelatest#1 at ./essentials.jl:712 [inlined]",
      " [17] invokelatest at ./essentials.jl:711 [inlined]",
      " [18] execute_request(::ZMQ.Socket, ::IJulia.Msg) at /Users/darioprandi/.julia/packages/IJulia/tOM8L/src/execute_request.jl:112",
      " [19] #invokelatest#1 at ./essentials.jl:712 [inlined]",
      " [20] invokelatest at ./essentials.jl:711 [inlined]",
      " [21] eventloop(::ZMQ.Socket) at /Users/darioprandi/.julia/packages/IJulia/tOM8L/src/eventloop.jl:8",
      " [22] (::IJulia.var\"#15#18\")() at ./task.jl:358"
     ]
    }
   ],
   "source": [
    "# dry run for compilation purposes\n",
    "wc_delay(L, 0., 0., 0.)\n",
    "\n",
    "α = 16\n",
    "β = 1\n",
    "γ = 18\n",
    "\n",
    "@time W = wc_delay(L, α, β, γ, b = 4)\n",
    "\n",
    "show_stft(W)"
   ]
  },
  {
   "cell_type": "code",
   "execution_count": 6,
   "metadata": {},
   "outputs": [
    {
     "ename": "ErrorException",
     "evalue": "could not load library \"libGR.so\"\ndlopen(libGR.so.dylib, 1): image not found",
     "output_type": "error",
     "traceback": [
      "could not load library \"libGR.so\"\ndlopen(libGR.so.dylib, 1): image not found",
      "",
      "Stacktrace:",
      " [1] setcharheight at /Users/darioprandi/.julia/packages/GR/oiZD3/src/GR.jl:1263 [inlined]",
      " [2] gr_set_font(::Plots.Font; halign::Symbol, valign::Symbol, color::ColorTypes.RGB{FixedPointNumbers.Normed{UInt8,8}}, rotation::Int64) at /Users/darioprandi/.julia/packages/Plots/qZHsp/src/backends/gr.jl:386",
      " [3] gr_set_xticks_font(::Plots.Subplot{Plots.GRBackend}) at /Users/darioprandi/.julia/packages/Plots/qZHsp/src/backends/gr.jl:723",
      " [4] _update_min_padding!(::Plots.Subplot{Plots.GRBackend}) at /Users/darioprandi/.julia/packages/Plots/qZHsp/src/backends/gr.jl:904",
      " [5] iterate at ./generator.jl:47 [inlined]",
      " [6] _collect(::Array{RecipesBase.AbstractLayout,2}, ::Base.Generator{Array{RecipesBase.AbstractLayout,2},typeof(Plots._update_min_padding!)}, ::Base.EltypeUnknown, ::Base.HasShape{2}) at ./array.jl:678",
      " [7] collect_similar(::Array{RecipesBase.AbstractLayout,2}, ::Base.Generator{Array{RecipesBase.AbstractLayout,2},typeof(Plots._update_min_padding!)}) at ./array.jl:607",
      " [8] map(::Function, ::Array{RecipesBase.AbstractLayout,2}) at ./abstractarray.jl:2072",
      " [9] _update_min_padding!(::Plots.GridLayout) at /Users/darioprandi/.julia/packages/Plots/qZHsp/src/layouts.jl:310",
      " [10] prepare_output(::Plots.Plot{Plots.GRBackend}) at /Users/darioprandi/.julia/packages/Plots/qZHsp/src/plot.jl:261",
      " [11] show(::Base.GenericIOBuffer{Array{UInt8,1}}, ::MIME{Symbol(\"image/svg+xml\")}, ::Plots.Plot{Plots.GRBackend}) at /Users/darioprandi/.julia/packages/Plots/qZHsp/src/output.jl:198",
      " [12] sprint(::Function, ::MIME{Symbol(\"image/svg+xml\")}, ::Vararg{Any,N} where N; context::Nothing, sizehint::Int64) at ./strings/io.jl:105",
      " [13] sprint at ./strings/io.jl:101 [inlined]",
      " [14] _ijulia_display_dict(::Plots.Plot{Plots.GRBackend}) at /Users/darioprandi/.julia/packages/Plots/qZHsp/src/ijulia.jl:53",
      " [15] display_dict(::Plots.Plot{Plots.GRBackend}) at /Users/darioprandi/.julia/packages/Plots/qZHsp/src/init.jl:83",
      " [16] #invokelatest#1 at ./essentials.jl:712 [inlined]",
      " [17] invokelatest at ./essentials.jl:711 [inlined]",
      " [18] execute_request(::ZMQ.Socket, ::IJulia.Msg) at /Users/darioprandi/.julia/packages/IJulia/tOM8L/src/execute_request.jl:112",
      " [19] #invokelatest#1 at ./essentials.jl:712 [inlined]",
      " [20] invokelatest at ./essentials.jl:711 [inlined]",
      " [21] eventloop(::ZMQ.Socket) at /Users/darioprandi/.julia/packages/IJulia/tOM8L/src/eventloop.jl:8",
      " [22] (::IJulia.var\"#15#18\")() at ./task.jl:358"
     ]
    }
   ],
   "source": [
    "show_istft(W)"
   ]
  },
  {
   "cell_type": "code",
   "execution_count": null,
   "metadata": {},
   "outputs": [],
   "source": []
  }
 ],
 "metadata": {
  "kernelspec": {
   "display_name": "Julia 1.4.2",
   "language": "julia",
   "name": "julia-1.4"
  },
  "language_info": {
   "file_extension": ".jl",
   "mimetype": "application/julia",
   "name": "julia",
   "version": "1.4.2"
  }
 },
 "nbformat": 4,
 "nbformat_minor": 4
}
